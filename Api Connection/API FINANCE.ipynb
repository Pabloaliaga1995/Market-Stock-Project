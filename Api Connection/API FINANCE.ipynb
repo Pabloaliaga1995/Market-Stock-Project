{
 "cells": [
  {
   "cell_type": "code",
   "execution_count": 1,
   "id": "c2f21fb4",
   "metadata": {},
   "outputs": [],
   "source": [
    "import pandas as pd\n",
    "import pandas_datareader.data as wb\n",
    "import yfinance as yf\n",
    "import numpy as np\n",
    "import matplotlib.pyplot as plt"
   ]
  },
  {
   "cell_type": "code",
   "execution_count": 2,
   "id": "df711a4d",
   "metadata": {},
   "outputs": [
    {
     "name": "stdout",
     "output_type": "stream",
     "text": [
      "introduce el ticker ANA.MC\n"
     ]
    }
   ],
   "source": [
    "ticker = str(input(\"introduce el ticker \"))\n",
    "ticker_data = pd.DataFrame()\n",
    "for i in ticker:\n",
    "    data = wb.DataReader(ticker , \"yahoo\")[[ \"High\",\"Low\"]]\n",
    "    ticker_data[\"High\"] = data[\"High\"]\n",
    "    ticker_data[\"Low\"] = data[\"Low\"]\n",
    "    ticker_data[\"Profit\"] = ((ticker_data[\"High\"] - ticker_data[\"Low\"])/(ticker_data[\"High\"]))*100"
   ]
  },
  {
   "cell_type": "code",
   "execution_count": 3,
   "id": "9c51cd79",
   "metadata": {},
   "outputs": [
    {
     "data": {
      "text/html": [
       "<div>\n",
       "<style scoped>\n",
       "    .dataframe tbody tr th:only-of-type {\n",
       "        vertical-align: middle;\n",
       "    }\n",
       "\n",
       "    .dataframe tbody tr th {\n",
       "        vertical-align: top;\n",
       "    }\n",
       "\n",
       "    .dataframe thead th {\n",
       "        text-align: right;\n",
       "    }\n",
       "</style>\n",
       "<table border=\"1\" class=\"dataframe\">\n",
       "  <thead>\n",
       "    <tr style=\"text-align: right;\">\n",
       "      <th></th>\n",
       "      <th>High</th>\n",
       "      <th>Low</th>\n",
       "      <th>Profit</th>\n",
       "    </tr>\n",
       "    <tr>\n",
       "      <th>Date</th>\n",
       "      <th></th>\n",
       "      <th></th>\n",
       "      <th></th>\n",
       "    </tr>\n",
       "  </thead>\n",
       "  <tbody>\n",
       "    <tr>\n",
       "      <th>2017-04-24</th>\n",
       "      <td>74.940002</td>\n",
       "      <td>73.870003</td>\n",
       "      <td>1.427808</td>\n",
       "    </tr>\n",
       "    <tr>\n",
       "      <th>2017-04-25</th>\n",
       "      <td>74.599998</td>\n",
       "      <td>74.000000</td>\n",
       "      <td>0.804288</td>\n",
       "    </tr>\n",
       "    <tr>\n",
       "      <th>2017-04-26</th>\n",
       "      <td>74.589996</td>\n",
       "      <td>73.769997</td>\n",
       "      <td>1.099343</td>\n",
       "    </tr>\n",
       "    <tr>\n",
       "      <th>2017-04-27</th>\n",
       "      <td>74.339996</td>\n",
       "      <td>73.510002</td>\n",
       "      <td>1.116484</td>\n",
       "    </tr>\n",
       "    <tr>\n",
       "      <th>2017-04-28</th>\n",
       "      <td>75.800003</td>\n",
       "      <td>74.110001</td>\n",
       "      <td>2.229555</td>\n",
       "    </tr>\n",
       "    <tr>\n",
       "      <th>...</th>\n",
       "      <td>...</td>\n",
       "      <td>...</td>\n",
       "      <td>...</td>\n",
       "    </tr>\n",
       "    <tr>\n",
       "      <th>2022-04-13</th>\n",
       "      <td>194.300003</td>\n",
       "      <td>188.699997</td>\n",
       "      <td>2.882144</td>\n",
       "    </tr>\n",
       "    <tr>\n",
       "      <th>2022-04-14</th>\n",
       "      <td>194.699997</td>\n",
       "      <td>188.800003</td>\n",
       "      <td>3.030300</td>\n",
       "    </tr>\n",
       "    <tr>\n",
       "      <th>2022-04-19</th>\n",
       "      <td>196.500000</td>\n",
       "      <td>192.300003</td>\n",
       "      <td>2.137403</td>\n",
       "    </tr>\n",
       "    <tr>\n",
       "      <th>2022-04-20</th>\n",
       "      <td>197.000000</td>\n",
       "      <td>192.699997</td>\n",
       "      <td>2.182743</td>\n",
       "    </tr>\n",
       "    <tr>\n",
       "      <th>2022-04-21</th>\n",
       "      <td>196.800003</td>\n",
       "      <td>190.800003</td>\n",
       "      <td>3.048780</td>\n",
       "    </tr>\n",
       "  </tbody>\n",
       "</table>\n",
       "<p>1277 rows × 3 columns</p>\n",
       "</div>"
      ],
      "text/plain": [
       "                  High         Low    Profit\n",
       "Date                                        \n",
       "2017-04-24   74.940002   73.870003  1.427808\n",
       "2017-04-25   74.599998   74.000000  0.804288\n",
       "2017-04-26   74.589996   73.769997  1.099343\n",
       "2017-04-27   74.339996   73.510002  1.116484\n",
       "2017-04-28   75.800003   74.110001  2.229555\n",
       "...                ...         ...       ...\n",
       "2022-04-13  194.300003  188.699997  2.882144\n",
       "2022-04-14  194.699997  188.800003  3.030300\n",
       "2022-04-19  196.500000  192.300003  2.137403\n",
       "2022-04-20  197.000000  192.699997  2.182743\n",
       "2022-04-21  196.800003  190.800003  3.048780\n",
       "\n",
       "[1277 rows x 3 columns]"
      ]
     },
     "execution_count": 3,
     "metadata": {},
     "output_type": "execute_result"
    }
   ],
   "source": [
    "ticker_data"
   ]
  },
  {
   "cell_type": "code",
   "execution_count": 4,
   "id": "f5b341d5",
   "metadata": {},
   "outputs": [],
   "source": [
    "ticker_data.to_csv(\"../Data/Ticker_info.csv\")"
   ]
  },
  {
   "cell_type": "code",
   "execution_count": null,
   "id": "3957d889",
   "metadata": {},
   "outputs": [],
   "source": []
  }
 ],
 "metadata": {
  "kernelspec": {
   "display_name": "Python [conda env:final-project]",
   "language": "python",
   "name": "conda-env-final-project-py"
  },
  "language_info": {
   "codemirror_mode": {
    "name": "ipython",
    "version": 3
   },
   "file_extension": ".py",
   "mimetype": "text/x-python",
   "name": "python",
   "nbconvert_exporter": "python",
   "pygments_lexer": "ipython3",
   "version": "3.7.13"
  }
 },
 "nbformat": 4,
 "nbformat_minor": 5
}
